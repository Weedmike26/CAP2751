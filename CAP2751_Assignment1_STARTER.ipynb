{
  "nbformat": 4,
  "nbformat_minor": 0,
  "metadata": {
    "colab": {
      "provenance": [],
      "toc_visible": true,
      "include_colab_link": true
    },
    "kernelspec": {
      "display_name": "Python [default]",
      "language": "python",
      "name": "python3"
    },
    "language_info": {
      "codemirror_mode": {
        "name": "ipython",
        "version": 3
      },
      "file_extension": ".py",
      "mimetype": "text/x-python",
      "name": "python",
      "nbconvert_exporter": "python",
      "pygments_lexer": "ipython3",
      "version": "3.6.8"
    },
    "accelerator": "GPU"
  },
  "cells": [
    {
      "cell_type": "markdown",
      "metadata": {
        "id": "view-in-github",
        "colab_type": "text"
      },
      "source": [
        "<a href=\"https://colab.research.google.com/github/Weedmike26/CAP2751/blob/main/CAP2751_Assignment1_STARTER.ipynb\" target=\"_parent\"><img src=\"https://colab.research.google.com/assets/colab-badge.svg\" alt=\"Open In Colab\"/></a>"
      ]
    },
    {
      "cell_type": "markdown",
      "metadata": {
        "id": "p78j872pOKTZ"
      },
      "source": [
        "# CAP 2751 - Tools for Data Science\n",
        "***Include the following info by clicking here:***\n",
        "* Name: Weed Mike Origene\n",
        "* Canvas Course Section: CAP 2751\n",
        "* Date: 06/08/2025\n",
        "* Link to your Notebook: https://colab.research.google.com/drive/1Cn2Dju2_5UzaosJyWBb2pQ1iGLQwNpwf?usp=sharing"
      ]
    },
    {
      "cell_type": "markdown",
      "metadata": {
        "id": "NYmNMHGLOKTa"
      },
      "source": [
        "# Assignment 1: Exploratory Data Analysis (EDA)\n",
        "## STARTER"
      ]
    },
    {
      "cell_type": "markdown",
      "metadata": {
        "id": "9UMnsRndOKTb"
      },
      "source": [
        "### Goals\n",
        "\n",
        "- To acquire a basic understanding of the Python \"data science stack\" (NumPy, Pandas, Matplotlib).\n",
        "- To have an early experience of manipulating, summarizing, and visualizing small datasets.\n",
        "- To demonstrate the ability to write Python code to answer questions and test hypotheses based on the contents of those datasets.\n"
      ]
    },
    {
      "cell_type": "markdown",
      "metadata": {
        "id": "B0rEAT7MOKTb"
      },
      "source": [
        "### Instructions\n",
        "\n",
        "- This assignment is structured in two parts.\n",
        "- For each part, there will be some Python code to be written and questions to be answered.\n",
        "- At the end, you should export your notebook to PDF format; it will \"automagically\" become your report.\n",
        "- Submit the report (PDF), notebook (.ipynb file), and the link to the \"live\" version of your solution on Google Colaboratory via Canvas.\n",
        "- The number of points is indicated next to each part. They add up to 100.\n",
        "- There are additional (20 points worth of) bonus items, which are, of course optional."
      ]
    },
    {
      "cell_type": "markdown",
      "metadata": {
        "id": "qiufouQn6OD9"
      },
      "source": [
        "### Important\n",
        "\n",
        "- It is OK to attempt the bonus points, but please **do not overdo it!**\n",
        "- Remember: this is an early exercise in exploring datasets; learning the syntax and \"tricks\" of Python, Jupyter notebooks, Numpy, Pandas, and Matplotlib; and writing code to test simple hypotheses and produce answers to simple questions that **you know you should be able to answer** because the answer can be pulled from the data.\n",
        "- This is not (yet) the time to do sophisticated statistical analysis, train ML models, etc."
      ]
    },
    {
      "cell_type": "markdown",
      "metadata": {
        "id": "UgM90DRHHHdK"
      },
      "source": [
        "---------\n",
        "### Imports + Google Drive"
      ]
    },
    {
      "cell_type": "code",
      "metadata": {
        "id": "5uC7gGB7H_Kz"
      },
      "source": [
        "# Imports\n",
        "import numpy as np\n",
        "import pandas as pd\n",
        "import matplotlib.pyplot as plt\n",
        "import seaborn as sns\n",
        "from scipy.stats import pearsonr, ttest_ind, f_oneway\n",
        "\n",
        "sns.set(style=\"ticks\", palette=\"Set2\")\n",
        "%matplotlib inline\n",
        "\n",
        "# Mount Google Drive (skip if data are local)\n",
        "from google.colab import drive\n",
        "drive.mount('/content/drive')\n",
        "Part 1 – Salaries"
      ],
      "execution_count": null,
      "outputs": []
    },
    {
      "cell_type": "code",
      "metadata": {
        "id": "B2qHzn_CG8rZ",
        "colab": {
          "base_uri": "https://localhost:8080/"
        },
        "outputId": "25e2b6cd-e1fb-4e3c-dded-217de33c27a2"
      },
      "source": [
        "# Mount Google Drive\n",
        "from google.colab import drive\n",
        "drive.mount('/content/drive')"
      ],
      "execution_count": null,
      "outputs": [
        {
          "output_type": "stream",
          "name": "stdout",
          "text": [
            "Mounted at /content/drive\n"
          ]
        }
      ]
    },
    {
      "cell_type": "markdown",
      "metadata": {
        "id": "G2J9o001OKTx"
      },
      "source": [
        "-------------------\n",
        "## Part 1: Salaries"
      ]
    },
    {
      "cell_type": "markdown",
      "metadata": {
        "id": "T1EXw38-OKTy"
      },
      "source": [
        "The Python code below will load a dataset containing the salaries and demographic data of more than 1000 employees of a hypothetical company, available in the file *salaries.csv*, which is a simple comma-separated list of labels and values."
      ]
    },
    {
      "cell_type": "code",
      "metadata": {
        "id": "lv1MGinjOKTz",
        "colab": {
          "base_uri": "https://localhost:8080/"
        },
        "outputId": "831c9ef6-2479-44f9-dd53-8d7dbb46f581"
      },
      "source": [
        "salaries = pd.read_csv('/content/drive/My Drive/Colab Notebooks/data/salaries.csv')\n",
        "#salaries = pd.read_csv('./data/salaries.csv')\n",
        "print(salaries.shape)\n",
        "print(salaries.count())"
      ],
      "execution_count": null,
      "outputs": [
        {
          "output_type": "stream",
          "name": "stdout",
          "text": [
            "(1192, 6)\n",
            "earn      1192\n",
            "height    1192\n",
            "sex       1192\n",
            "ed        1192\n",
            "age       1192\n",
            "race      1192\n",
            "dtype: int64\n"
          ]
        }
      ]
    },
    {
      "cell_type": "markdown",
      "metadata": {
        "id": "wxwNfCp1OKT2"
      },
      "source": [
        "### 1.1 Your turn! (2 points)\n",
        "\n",
        "What is the meaning of each of the six variables/features stored along the columns of the dataset?\n",
        "\n",
        "Hint: Your solution should have a code cell (2-3 lines of Python) + a text cell (bullet list, explaining the meaning of each variable _to the best of your knowledge_)"
      ]
    },
    {
      "cell_type": "code",
      "metadata": {
        "id": "R87GQz-ILPv4",
        "colab": {
          "base_uri": "https://localhost:8080/",
          "height": 206
        },
        "outputId": "afce8022-6d54-4522-d3e4-d6bbd9f267eb"
      },
      "source": [
        "salaries = pd.read_csv('/content/drive/My Drive/Colab Notebooks/data/salaries.csv')\n",
        "salaries.head()"
      ],
      "execution_count": null,
      "outputs": [
        {
          "output_type": "execute_result",
          "data": {
            "text/plain": [
              "      earn     height     sex  ed  age   race\n",
              "0  50000.0  74.424439    male  16   45  white\n",
              "1  60000.0  65.537543  female  16   58  white\n",
              "2  30000.0  63.629198  female  16   29  white\n",
              "3  50000.0  63.108562  female  16   91  other\n",
              "4  51000.0  63.402484  female  17   39  white"
            ],
            "text/html": [
              "\n",
              "  <div id=\"df-996c71de-6403-4872-91a6-3c79e99092c7\" class=\"colab-df-container\">\n",
              "    <div>\n",
              "<style scoped>\n",
              "    .dataframe tbody tr th:only-of-type {\n",
              "        vertical-align: middle;\n",
              "    }\n",
              "\n",
              "    .dataframe tbody tr th {\n",
              "        vertical-align: top;\n",
              "    }\n",
              "\n",
              "    .dataframe thead th {\n",
              "        text-align: right;\n",
              "    }\n",
              "</style>\n",
              "<table border=\"1\" class=\"dataframe\">\n",
              "  <thead>\n",
              "    <tr style=\"text-align: right;\">\n",
              "      <th></th>\n",
              "      <th>earn</th>\n",
              "      <th>height</th>\n",
              "      <th>sex</th>\n",
              "      <th>ed</th>\n",
              "      <th>age</th>\n",
              "      <th>race</th>\n",
              "    </tr>\n",
              "  </thead>\n",
              "  <tbody>\n",
              "    <tr>\n",
              "      <th>0</th>\n",
              "      <td>50000.0</td>\n",
              "      <td>74.424439</td>\n",
              "      <td>male</td>\n",
              "      <td>16</td>\n",
              "      <td>45</td>\n",
              "      <td>white</td>\n",
              "    </tr>\n",
              "    <tr>\n",
              "      <th>1</th>\n",
              "      <td>60000.0</td>\n",
              "      <td>65.537543</td>\n",
              "      <td>female</td>\n",
              "      <td>16</td>\n",
              "      <td>58</td>\n",
              "      <td>white</td>\n",
              "    </tr>\n",
              "    <tr>\n",
              "      <th>2</th>\n",
              "      <td>30000.0</td>\n",
              "      <td>63.629198</td>\n",
              "      <td>female</td>\n",
              "      <td>16</td>\n",
              "      <td>29</td>\n",
              "      <td>white</td>\n",
              "    </tr>\n",
              "    <tr>\n",
              "      <th>3</th>\n",
              "      <td>50000.0</td>\n",
              "      <td>63.108562</td>\n",
              "      <td>female</td>\n",
              "      <td>16</td>\n",
              "      <td>91</td>\n",
              "      <td>other</td>\n",
              "    </tr>\n",
              "    <tr>\n",
              "      <th>4</th>\n",
              "      <td>51000.0</td>\n",
              "      <td>63.402484</td>\n",
              "      <td>female</td>\n",
              "      <td>17</td>\n",
              "      <td>39</td>\n",
              "      <td>white</td>\n",
              "    </tr>\n",
              "  </tbody>\n",
              "</table>\n",
              "</div>\n",
              "    <div class=\"colab-df-buttons\">\n",
              "\n",
              "  <div class=\"colab-df-container\">\n",
              "    <button class=\"colab-df-convert\" onclick=\"convertToInteractive('df-996c71de-6403-4872-91a6-3c79e99092c7')\"\n",
              "            title=\"Convert this dataframe to an interactive table.\"\n",
              "            style=\"display:none;\">\n",
              "\n",
              "  <svg xmlns=\"http://www.w3.org/2000/svg\" height=\"24px\" viewBox=\"0 -960 960 960\">\n",
              "    <path d=\"M120-120v-720h720v720H120Zm60-500h600v-160H180v160Zm220 220h160v-160H400v160Zm0 220h160v-160H400v160ZM180-400h160v-160H180v160Zm440 0h160v-160H620v160ZM180-180h160v-160H180v160Zm440 0h160v-160H620v160Z\"/>\n",
              "  </svg>\n",
              "    </button>\n",
              "\n",
              "  <style>\n",
              "    .colab-df-container {\n",
              "      display:flex;\n",
              "      gap: 12px;\n",
              "    }\n",
              "\n",
              "    .colab-df-convert {\n",
              "      background-color: #E8F0FE;\n",
              "      border: none;\n",
              "      border-radius: 50%;\n",
              "      cursor: pointer;\n",
              "      display: none;\n",
              "      fill: #1967D2;\n",
              "      height: 32px;\n",
              "      padding: 0 0 0 0;\n",
              "      width: 32px;\n",
              "    }\n",
              "\n",
              "    .colab-df-convert:hover {\n",
              "      background-color: #E2EBFA;\n",
              "      box-shadow: 0px 1px 2px rgba(60, 64, 67, 0.3), 0px 1px 3px 1px rgba(60, 64, 67, 0.15);\n",
              "      fill: #174EA6;\n",
              "    }\n",
              "\n",
              "    .colab-df-buttons div {\n",
              "      margin-bottom: 4px;\n",
              "    }\n",
              "\n",
              "    [theme=dark] .colab-df-convert {\n",
              "      background-color: #3B4455;\n",
              "      fill: #D2E3FC;\n",
              "    }\n",
              "\n",
              "    [theme=dark] .colab-df-convert:hover {\n",
              "      background-color: #434B5C;\n",
              "      box-shadow: 0px 1px 3px 1px rgba(0, 0, 0, 0.15);\n",
              "      filter: drop-shadow(0px 1px 2px rgba(0, 0, 0, 0.3));\n",
              "      fill: #FFFFFF;\n",
              "    }\n",
              "  </style>\n",
              "\n",
              "    <script>\n",
              "      const buttonEl =\n",
              "        document.querySelector('#df-996c71de-6403-4872-91a6-3c79e99092c7 button.colab-df-convert');\n",
              "      buttonEl.style.display =\n",
              "        google.colab.kernel.accessAllowed ? 'block' : 'none';\n",
              "\n",
              "      async function convertToInteractive(key) {\n",
              "        const element = document.querySelector('#df-996c71de-6403-4872-91a6-3c79e99092c7');\n",
              "        const dataTable =\n",
              "          await google.colab.kernel.invokeFunction('convertToInteractive',\n",
              "                                                    [key], {});\n",
              "        if (!dataTable) return;\n",
              "\n",
              "        const docLinkHtml = 'Like what you see? Visit the ' +\n",
              "          '<a target=\"_blank\" href=https://colab.research.google.com/notebooks/data_table.ipynb>data table notebook</a>'\n",
              "          + ' to learn more about interactive tables.';\n",
              "        element.innerHTML = '';\n",
              "        dataTable['output_type'] = 'display_data';\n",
              "        await google.colab.output.renderOutput(dataTable, element);\n",
              "        const docLink = document.createElement('div');\n",
              "        docLink.innerHTML = docLinkHtml;\n",
              "        element.appendChild(docLink);\n",
              "      }\n",
              "    </script>\n",
              "  </div>\n",
              "\n",
              "\n",
              "<div id=\"df-ec27ca5c-c34a-40bf-bcf4-72940c9aa67f\">\n",
              "  <button class=\"colab-df-quickchart\" onclick=\"quickchart('df-ec27ca5c-c34a-40bf-bcf4-72940c9aa67f')\"\n",
              "            title=\"Suggest charts\"\n",
              "            style=\"display:none;\">\n",
              "\n",
              "<svg xmlns=\"http://www.w3.org/2000/svg\" height=\"24px\"viewBox=\"0 0 24 24\"\n",
              "     width=\"24px\">\n",
              "    <g>\n",
              "        <path d=\"M19 3H5c-1.1 0-2 .9-2 2v14c0 1.1.9 2 2 2h14c1.1 0 2-.9 2-2V5c0-1.1-.9-2-2-2zM9 17H7v-7h2v7zm4 0h-2V7h2v10zm4 0h-2v-4h2v4z\"/>\n",
              "    </g>\n",
              "</svg>\n",
              "  </button>\n",
              "\n",
              "<style>\n",
              "  .colab-df-quickchart {\n",
              "      --bg-color: #E8F0FE;\n",
              "      --fill-color: #1967D2;\n",
              "      --hover-bg-color: #E2EBFA;\n",
              "      --hover-fill-color: #174EA6;\n",
              "      --disabled-fill-color: #AAA;\n",
              "      --disabled-bg-color: #DDD;\n",
              "  }\n",
              "\n",
              "  [theme=dark] .colab-df-quickchart {\n",
              "      --bg-color: #3B4455;\n",
              "      --fill-color: #D2E3FC;\n",
              "      --hover-bg-color: #434B5C;\n",
              "      --hover-fill-color: #FFFFFF;\n",
              "      --disabled-bg-color: #3B4455;\n",
              "      --disabled-fill-color: #666;\n",
              "  }\n",
              "\n",
              "  .colab-df-quickchart {\n",
              "    background-color: var(--bg-color);\n",
              "    border: none;\n",
              "    border-radius: 50%;\n",
              "    cursor: pointer;\n",
              "    display: none;\n",
              "    fill: var(--fill-color);\n",
              "    height: 32px;\n",
              "    padding: 0;\n",
              "    width: 32px;\n",
              "  }\n",
              "\n",
              "  .colab-df-quickchart:hover {\n",
              "    background-color: var(--hover-bg-color);\n",
              "    box-shadow: 0 1px 2px rgba(60, 64, 67, 0.3), 0 1px 3px 1px rgba(60, 64, 67, 0.15);\n",
              "    fill: var(--button-hover-fill-color);\n",
              "  }\n",
              "\n",
              "  .colab-df-quickchart-complete:disabled,\n",
              "  .colab-df-quickchart-complete:disabled:hover {\n",
              "    background-color: var(--disabled-bg-color);\n",
              "    fill: var(--disabled-fill-color);\n",
              "    box-shadow: none;\n",
              "  }\n",
              "\n",
              "  .colab-df-spinner {\n",
              "    border: 2px solid var(--fill-color);\n",
              "    border-color: transparent;\n",
              "    border-bottom-color: var(--fill-color);\n",
              "    animation:\n",
              "      spin 1s steps(1) infinite;\n",
              "  }\n",
              "\n",
              "  @keyframes spin {\n",
              "    0% {\n",
              "      border-color: transparent;\n",
              "      border-bottom-color: var(--fill-color);\n",
              "      border-left-color: var(--fill-color);\n",
              "    }\n",
              "    20% {\n",
              "      border-color: transparent;\n",
              "      border-left-color: var(--fill-color);\n",
              "      border-top-color: var(--fill-color);\n",
              "    }\n",
              "    30% {\n",
              "      border-color: transparent;\n",
              "      border-left-color: var(--fill-color);\n",
              "      border-top-color: var(--fill-color);\n",
              "      border-right-color: var(--fill-color);\n",
              "    }\n",
              "    40% {\n",
              "      border-color: transparent;\n",
              "      border-right-color: var(--fill-color);\n",
              "      border-top-color: var(--fill-color);\n",
              "    }\n",
              "    60% {\n",
              "      border-color: transparent;\n",
              "      border-right-color: var(--fill-color);\n",
              "    }\n",
              "    80% {\n",
              "      border-color: transparent;\n",
              "      border-right-color: var(--fill-color);\n",
              "      border-bottom-color: var(--fill-color);\n",
              "    }\n",
              "    90% {\n",
              "      border-color: transparent;\n",
              "      border-bottom-color: var(--fill-color);\n",
              "    }\n",
              "  }\n",
              "</style>\n",
              "\n",
              "  <script>\n",
              "    async function quickchart(key) {\n",
              "      const quickchartButtonEl =\n",
              "        document.querySelector('#' + key + ' button');\n",
              "      quickchartButtonEl.disabled = true;  // To prevent multiple clicks.\n",
              "      quickchartButtonEl.classList.add('colab-df-spinner');\n",
              "      try {\n",
              "        const charts = await google.colab.kernel.invokeFunction(\n",
              "            'suggestCharts', [key], {});\n",
              "      } catch (error) {\n",
              "        console.error('Error during call to suggestCharts:', error);\n",
              "      }\n",
              "      quickchartButtonEl.classList.remove('colab-df-spinner');\n",
              "      quickchartButtonEl.classList.add('colab-df-quickchart-complete');\n",
              "    }\n",
              "    (() => {\n",
              "      let quickchartButtonEl =\n",
              "        document.querySelector('#df-ec27ca5c-c34a-40bf-bcf4-72940c9aa67f button');\n",
              "      quickchartButtonEl.style.display =\n",
              "        google.colab.kernel.accessAllowed ? 'block' : 'none';\n",
              "    })();\n",
              "  </script>\n",
              "</div>\n",
              "\n",
              "    </div>\n",
              "  </div>\n"
            ],
            "application/vnd.google.colaboratory.intrinsic+json": {
              "type": "dataframe",
              "variable_name": "salaries",
              "summary": "{\n  \"name\": \"salaries\",\n  \"rows\": 1192,\n  \"fields\": [\n    {\n      \"column\": \"earn\",\n      \"properties\": {\n        \"dtype\": \"number\",\n        \"std\": 19472.2969254791,\n        \"min\": 200.0,\n        \"max\": 200000.0,\n        \"num_unique_values\": 133,\n        \"samples\": [\n          37000.0,\n          32750.0,\n          18700.0\n        ],\n        \"semantic_type\": \"\",\n        \"description\": \"\"\n      }\n    },\n    {\n      \"column\": \"height\",\n      \"properties\": {\n        \"dtype\": \"number\",\n        \"std\": 3.853967839819119,\n        \"min\": 57.50321861,\n        \"max\": 77.05128181,\n        \"num_unique_values\": 1192,\n        \"samples\": [\n          64.74689624,\n          61.97133572,\n          75.13845111\n        ],\n        \"semantic_type\": \"\",\n        \"description\": \"\"\n      }\n    },\n    {\n      \"column\": \"sex\",\n      \"properties\": {\n        \"dtype\": \"category\",\n        \"num_unique_values\": 2,\n        \"samples\": [\n          \"female\",\n          \"male\"\n        ],\n        \"semantic_type\": \"\",\n        \"description\": \"\"\n      }\n    },\n    {\n      \"column\": \"ed\",\n      \"properties\": {\n        \"dtype\": \"number\",\n        \"std\": 2,\n        \"min\": 3,\n        \"max\": 18,\n        \"num_unique_values\": 16,\n        \"samples\": [\n          16,\n          17\n        ],\n        \"semantic_type\": \"\",\n        \"description\": \"\"\n      }\n    },\n    {\n      \"column\": \"age\",\n      \"properties\": {\n        \"dtype\": \"number\",\n        \"std\": 15,\n        \"min\": 18,\n        \"max\": 91,\n        \"num_unique_values\": 72,\n        \"samples\": [\n          39,\n          81\n        ],\n        \"semantic_type\": \"\",\n        \"description\": \"\"\n      }\n    },\n    {\n      \"column\": \"race\",\n      \"properties\": {\n        \"dtype\": \"category\",\n        \"num_unique_values\": 4,\n        \"samples\": [\n          \"other\",\n          \"black\"\n        ],\n        \"semantic_type\": \"\",\n        \"description\": \"\"\n      }\n    }\n  ]\n}"
            }
          },
          "metadata": {},
          "execution_count": 5
        }
      ]
    },
    {
      "cell_type": "markdown",
      "source": [
        "earn – Earnings or salary (presumably annual income, in U.S. dollars)\n",
        "\n",
        "height – Height of the individual (in inches)\n",
        "\n",
        "sex – Gender of the individual (categorical; e.g., \"male\", \"female\")\n",
        "\n",
        "ed – Years of education completed\n",
        "\n",
        "age – Age of the individual (in years)\n",
        "\n",
        "race – Race or ethnicity (categorical; likely coded numerically or with labels)"
      ],
      "metadata": {
        "id": "758smU-LpKDh"
      }
    },
    {
      "cell_type": "code",
      "metadata": {
        "id": "2fmIimSv3RfT"
      },
      "source": [
        "import pandas as pd\n",
        "\n",
        "# Load the dataset\n",
        "salaries = pd.read_csv('/content/drive/My Drive/Colab Notebooks/data/salaries.csv')\n",
        "\n",
        "# Display the first few rows of the dataset\n",
        "salaries.head()\n",
        "# inspired by ----- url"
      ],
      "execution_count": null,
      "outputs": []
    },
    {
      "cell_type": "markdown",
      "metadata": {
        "id": "Ib2qJbwDLSP5"
      },
      "source": [
        "*Enter your text here*\n",
        "\n",
        "*   earn = salary (presumably annual, in USD)\n",
        "*   height = height (inch)\n",
        "\n",
        "\n",
        "\n"
      ]
    },
    {
      "cell_type": "markdown",
      "metadata": {
        "id": "-bvyTbsZOKT4"
      },
      "source": [
        "--------------------\n",
        "### Summary statistics and correlations\n",
        "\n",
        "Let's explore the dataset by plotting some graphs and displaying summary statistics.\n",
        "\n",
        "The code below should display:\n",
        "- Min, max, average, and median salary (global)\n",
        "- A histogram of salaries\n",
        "- A scatterplot correlating salaries and years of education\n",
        "- The (Pearson) correlation coefficient between the two variables.\n",
        "\n",
        "This should help us get started."
      ]
    },
    {
      "cell_type": "code",
      "metadata": {
        "id": "jai0zaQ1OKT5",
        "colab": {
          "base_uri": "https://localhost:8080/"
        },
        "outputId": "b7236ae1-b59b-4d49-976a-7b7d0f7a6eb9"
      },
      "source": [
        "salary = np.array(salaries['earn'])\n",
        "print(\"--- Salary statistics ---\")\n",
        "print(\"Minimum salary (global): ${:6.2f}\".format(np.min(salary)))\n",
        "print(\"Maximum salary (global): ${:6.2f}\".format(np.max(salary)))\n",
        "print(\"Average salary (global): ${:6.2f}\".format(np.mean(salary)))\n",
        "print(\"Median  salary (global): ${:6.2f}\".format(np.median(salary)))"
      ],
      "execution_count": null,
      "outputs": [
        {
          "output_type": "stream",
          "name": "stdout",
          "text": [
            "--- Salary statistics ---\n",
            "Minimum salary (global): $200.00\n",
            "Maximum salary (global): $200000.00\n",
            "Average salary (global): $23154.77\n",
            "Median  salary (global): $20000.00\n"
          ]
        }
      ]
    },
    {
      "cell_type": "code",
      "metadata": {
        "id": "MQSn8R8MOKT6",
        "colab": {
          "base_uri": "https://localhost:8080/",
          "height": 480
        },
        "outputId": "93a45bb8-e157-4e76-8d5f-d24c67a40822"
      },
      "source": [
        "plt.hist(salary)\n",
        "plt.title('Salary Distribution')\n",
        "plt.xlabel('Salary')\n",
        "plt.ylabel('Number of Employees');"
      ],
      "execution_count": null,
      "outputs": [
        {
          "output_type": "display_data",
          "data": {
            "text/plain": [
              "<Figure size 640x480 with 1 Axes>"
            ],
            "image/png": "[encoded data removed]"
          },
          "metadata": {}
        }
      ]
    },
    {
      "cell_type": "code",
      "metadata": {
        "id": "DIcrOnZ4OKT8",
        "colab": {
          "base_uri": "https://localhost:8080/",
          "height": 480
        },
        "outputId": "7d264bf0-2b50-4123-b927-5178b68ca5f1"
      },
      "source": [
        "years = np.array(salaries['ed'])\n",
        "plt.title('Salary vs. Education Level')\n",
        "plt.ylabel('Salary')\n",
        "plt.xlabel('Years of education');\n",
        "plt.scatter(years, salary, alpha=0.5)\n",
        "plt.show()"
      ],
      "execution_count": null,
      "outputs": [
        {
          "output_type": "display_data",
          "data": {
            "text/plain": [
              "<Figure size 640x480 with 1 Axes>"
            ],
            "image/png": "[encoded data removed]"
          },
          "metadata": {}
        }
      ]
    },
    {
      "cell_type": "code",
      "metadata": {
        "id": "fllJH1rfOKT_",
        "colab": {
          "base_uri": "https://localhost:8080/"
        },
        "outputId": "fce76a15-0dc4-4833-848d-44457db029f5"
      },
      "source": [
        "# Compute Pearson coefficient\n",
        "corr, _ = pearsonr(salary,years)\n",
        "print('Correlation coefficient: ',corr)"
      ],
      "execution_count": null,
      "outputs": [
        {
          "output_type": "stream",
          "name": "stdout",
          "text": [
            "Correlation coefficient:  0.3399765246894847\n"
          ]
        }
      ]
    },
    {
      "cell_type": "markdown",
      "metadata": {
        "id": "-n2_sL4UOKUA"
      },
      "source": [
        "The Pearson correlation coefficient (a value between -1 and 1) can be used to summarize the strength of the linear relationship between two data samples.\n",
        "\n",
        "A simplified way to interpret the result is:\n",
        "- A value of 0 means no correlation\n",
        "- Values below -0.5 or above 0.5 indicates a notable (negative/positive) correlation"
      ]
    },
    {
      "cell_type": "markdown",
      "metadata": {
        "id": "oVXf-zPyOKUB"
      },
      "source": [
        "### 1.2 Your turn! (10-14 points)\n",
        "\n",
        "Write code to:\n",
        "\n",
        "1. Display the total headcount and the number (and %) of male and female employees. (2 pts)\n",
        "2. Compute and display the min, max, average, and median salary *per gender*. (8 pts)\n",
        "3. (OPTIONAL) Plot meaningful graphs that could provide insight into the gender inequality (*if any is present*) associated with the salaries in the company. (<= 4 bonus points)\n"
      ]
    },
    {
      "cell_type": "code",
      "metadata": {
        "id": "PyzLB_FILa6y"
      },
      "source": [
        "## headcount\n",
        "total = len(salaries)\n",
        "gender_counts = salaries['sex'].value_counts()\n",
        "gender_pct = gender_counts / total * 100\n",
        "display(pd.DataFrame({'count': gender_counts, 'percent': gender_pct.round(1)}))\n",
        "\n",
        "## salary stats per gender\n",
        "salary_stats = (salaries\n",
        "                .groupby('sex')['earn']\n",
        "                .agg(['min','max','mean','median'])\n",
        "                .round(2))\n",
        "display(salary_stats)\n",
        "\n",
        "## BONUS – distribution viz\n",
        "fig, ax = plt.subplots(1,2, figsize=(12,4))\n",
        "sns.boxplot(data=salaries, x='sex', y='earn', ax=ax[0])\n",
        "ax[0].set_title('Salary by Gender')\n",
        "sns.kdeplot(data=salaries, x='earn', hue='sex', ax=ax[1], common_norm=False, fill=True, alpha=.4)\n",
        "ax[1].set_title('Density of Salaries')\n",
        "plt.tight_layout()"
      ],
      "execution_count": null,
      "outputs": []
    },
    {
      "cell_type": "markdown",
      "metadata": {
        "id": "2MeVVzBfLeV5"
      },
      "source": [
        "*Enter your text here*"
      ]
    },
    {
      "cell_type": "markdown",
      "metadata": {
        "id": "34cWPF_jOKUQ"
      },
      "source": [
        "--------------------\n",
        "### Signs of inequality\n",
        "\n",
        "As you can possibly tell by now, this dataset may help us test hypotheses and answer questions related to possible sources of inequality associated with the salary distribution: gender, age, race, etc..\n",
        "\n",
        "Let's assume, for the sake of argument, that the number of years of education should correlate well with a person's salary (this is clearly a weak argument and the plot and Pearson correlation coefficient computation above suggests that this is *not* the case) and that other suspiciously high (positive or negative) correlations could be interpreted as a sign of inequality."
      ]
    },
    {
      "cell_type": "markdown",
      "metadata": {
        "id": "R1UaYIHoOKUR"
      },
      "source": [
        "---------------------\n",
        "### Hypotheses H1, H2, H3\n",
        "At this point, we will formulate 3 different hypotheses that might suggest that the salary distribution is biased by factors such as age, gender, or race:\n",
        "\n",
        "- H1: Older employees are paid less (i.e., ageism)\n",
        "- H2: Female employees are paid less (i.e., gender bias)\n",
        "- H3: Non-whites are paid less (i.e, race bias)."
      ]
    },
    {
      "cell_type": "markdown",
      "metadata": {
        "id": "n8odBiXoOKUR"
      },
      "source": [
        "### 1.3 Your turn! (18-26 points)\n",
        "\n",
        "Write Python code to test hypotheses H1, H2, and H3 (and some text to explain whether they were confirmed or not).\n",
        "\n",
        "Feel free to (also) use plots, but make your code independent of a human being interpreting those plots.\n",
        "\n",
        "**Weight**: 18 pts, i.e., 6 pts per hypothesis.\n",
        "Up to 8 bonus points for insightful additional hypotheses, code, and/or comments.  "
      ]
    },
    {
      "cell_type": "markdown",
      "metadata": {
        "id": "rkv4wSP1KeqR"
      },
      "source": [
        "H1:"
      ]
    },
    {
      "cell_type": "code",
      "metadata": {
        "id": "bh7h9mfsLBMw"
      },
      "source": [
        "r_age, p_age = pearsonr(salaries['age'], salaries['earn'])\n",
        "print(f\"Pearson r = {r_age:.3f}  (p = {p_age:.4g})\")"
      ],
      "execution_count": null,
      "outputs": []
    },
    {
      "cell_type": "markdown",
      "metadata": {
        "id": "ylsSA3g6MGB3"
      },
      "source": [
        "H2:"
      ]
    },
    {
      "cell_type": "code",
      "metadata": {
        "id": "6RCqC-wEMMpw"
      },
      "source": [
        "mearn = salaries.loc[salaries.sex=='male','earn']\n",
        "fearn = salaries.loc[salaries.sex=='female','earn']\n",
        "t,p = ttest_ind(mearn, fearn, equal_var=False)\n",
        "print(f\"Mean diff = ${mearn.mean()-fearn.mean():.0f};  t = {t:.2f},  p = {p:.4g}\")"
      ],
      "execution_count": null,
      "outputs": []
    },
    {
      "cell_type": "markdown",
      "metadata": {
        "id": "JE_UdkqxMPCJ"
      },
      "source": [
        "H3:"
      ]
    },
    {
      "cell_type": "code",
      "metadata": {
        "id": "runffTqPMQLM"
      },
      "source": [
        "race_groups = [g['earn'].values for _, g in salaries.groupby('race')]\n",
        "F,p = f_oneway(*race_groups)\n",
        "print(f\"ANOVA F = {F:.2f}, p = {p:.4g}\")"
      ],
      "execution_count": null,
      "outputs": []
    },
    {
      "cell_type": "markdown",
      "metadata": {
        "id": "fiXV2xUI7lUZ"
      },
      "source": [
        "-------------------\n",
        "## Part 2: Fuel consumption"
      ]
    },
    {
      "cell_type": "markdown",
      "metadata": {
        "id": "0EDk6NGk8YsH"
      },
      "source": [
        "The Python code below will load a dataset containing fuel consumption data for ~400 vehicles produced in the 1970s and the 1980s along with some characteristic information associated with each model.\n",
        "\n",
        "Here, *displacement* refers to a vehicle's engine size and the fuel efficiency is measured in miles per gallon (mpg).\n",
        "\n",
        "See:\n",
        "https://archive.ics.uci.edu/ml/datasets/Auto+MPG for additional information."
      ]
    },
    {
      "cell_type": "code",
      "metadata": {
        "id": "4dkSabDG5gjc",
        "colab": {
          "base_uri": "https://localhost:8080/"
        },
        "outputId": "cf095a77-d6ee-4b94-d5c8-b86c46ccbacc"
      },
      "source": [
        "data = pd.read_csv(\"http://archive.ics.uci.edu/ml/machine-learning-databases/auto-mpg/auto-mpg.data-original\",\n",
        "                   delim_whitespace = True, header=None,\n",
        "                   names = ['mpg', 'cylinders', 'displacement', 'horsepower', 'weight', 'acceleration',\n",
        "                            'model', 'origin', 'car_name'])\n",
        "print(data.shape)"
      ],
      "execution_count": null,
      "outputs": [
        {
          "output_type": "stream",
          "name": "stderr",
          "text": [
            "<ipython-input-10-4a6d48b4152a>:1: FutureWarning: The 'delim_whitespace' keyword in pd.read_csv is deprecated and will be removed in a future version. Use ``sep='\\s+'`` instead\n",
            "  data = pd.read_csv(\"http://archive.ics.uci.edu/ml/machine-learning-databases/auto-mpg/auto-mpg.data-original\",\n"
          ]
        },
        {
          "output_type": "stream",
          "name": "stdout",
          "text": [
            "(406, 9)\n"
          ]
        }
      ]
    },
    {
      "cell_type": "code",
      "metadata": {
        "id": "WVNr-0SxD7Ai",
        "colab": {
          "base_uri": "https://localhost:8080/",
          "height": 206
        },
        "outputId": "d5ef4c14-e61b-4e05-913c-9163a799daaa"
      },
      "source": [
        "data.dropna(inplace=True)\n",
        "data.head()"
      ],
      "execution_count": null,
      "outputs": [
        {
          "output_type": "execute_result",
          "data": {
            "text/plain": [
              "    mpg  cylinders  displacement  horsepower  weight  acceleration  model  \\\n",
              "0  18.0        8.0         307.0       130.0  3504.0          12.0   70.0   \n",
              "1  15.0        8.0         350.0       165.0  3693.0          11.5   70.0   \n",
              "2  18.0        8.0         318.0       150.0  3436.0          11.0   70.0   \n",
              "3  16.0        8.0         304.0       150.0  3433.0          12.0   70.0   \n",
              "4  17.0        8.0         302.0       140.0  3449.0          10.5   70.0   \n",
              "\n",
              "   origin                   car_name  \n",
              "0     1.0  chevrolet chevelle malibu  \n",
              "1     1.0          buick skylark 320  \n",
              "2     1.0         plymouth satellite  \n",
              "3     1.0              amc rebel sst  \n",
              "4     1.0                ford torino  "
            ],
            "text/html": [
              "\n",
              "  <div id=\"df-a29e717e-e874-40dc-963c-85e17f68804c\" class=\"colab-df-container\">\n",
              "    <div>\n",
              "<style scoped>\n",
              "    .dataframe tbody tr th:only-of-type {\n",
              "        vertical-align: middle;\n",
              "    }\n",
              "\n",
              "    .dataframe tbody tr th {\n",
              "        vertical-align: top;\n",
              "    }\n",
              "\n",
              "    .dataframe thead th {\n",
              "        text-align: right;\n",
              "    }\n",
              "</style>\n",
              "<table border=\"1\" class=\"dataframe\">\n",
              "  <thead>\n",
              "    <tr style=\"text-align: right;\">\n",
              "      <th></th>\n",
              "      <th>mpg</th>\n",
              "      <th>cylinders</th>\n",
              "      <th>displacement</th>\n",
              "      <th>horsepower</th>\n",
              "      <th>weight</th>\n",
              "      <th>acceleration</th>\n",
              "      <th>model</th>\n",
              "      <th>origin</th>\n",
              "      <th>car_name</th>\n",
              "    </tr>\n",
              "  </thead>\n",
              "  <tbody>\n",
              "    <tr>\n",
              "      <th>0</th>\n",
              "      <td>18.0</td>\n",
              "      <td>8.0</td>\n",
              "      <td>307.0</td>\n",
              "      <td>130.0</td>\n",
              "      <td>3504.0</td>\n",
              "      <td>12.0</td>\n",
              "      <td>70.0</td>\n",
              "      <td>1.0</td>\n",
              "      <td>chevrolet chevelle malibu</td>\n",
              "    </tr>\n",
              "    <tr>\n",
              "      <th>1</th>\n",
              "      <td>15.0</td>\n",
              "      <td>8.0</td>\n",
              "      <td>350.0</td>\n",
              "      <td>165.0</td>\n",
              "      <td>3693.0</td>\n",
              "      <td>11.5</td>\n",
              "      <td>70.0</td>\n",
              "      <td>1.0</td>\n",
              "      <td>buick skylark 320</td>\n",
              "    </tr>\n",
              "    <tr>\n",
              "      <th>2</th>\n",
              "      <td>18.0</td>\n",
              "      <td>8.0</td>\n",
              "      <td>318.0</td>\n",
              "      <td>150.0</td>\n",
              "      <td>3436.0</td>\n",
              "      <td>11.0</td>\n",
              "      <td>70.0</td>\n",
              "      <td>1.0</td>\n",
              "      <td>plymouth satellite</td>\n",
              "    </tr>\n",
              "    <tr>\n",
              "      <th>3</th>\n",
              "      <td>16.0</td>\n",
              "      <td>8.0</td>\n",
              "      <td>304.0</td>\n",
              "      <td>150.0</td>\n",
              "      <td>3433.0</td>\n",
              "      <td>12.0</td>\n",
              "      <td>70.0</td>\n",
              "      <td>1.0</td>\n",
              "      <td>amc rebel sst</td>\n",
              "    </tr>\n",
              "    <tr>\n",
              "      <th>4</th>\n",
              "      <td>17.0</td>\n",
              "      <td>8.0</td>\n",
              "      <td>302.0</td>\n",
              "      <td>140.0</td>\n",
              "      <td>3449.0</td>\n",
              "      <td>10.5</td>\n",
              "      <td>70.0</td>\n",
              "      <td>1.0</td>\n",
              "      <td>ford torino</td>\n",
              "    </tr>\n",
              "  </tbody>\n",
              "</table>\n",
              "</div>\n",
              "    <div class=\"colab-df-buttons\">\n",
              "\n",
              "  <div class=\"colab-df-container\">\n",
              "    <button class=\"colab-df-convert\" onclick=\"convertToInteractive('df-a29e717e-e874-40dc-963c-85e17f68804c')\"\n",
              "            title=\"Convert this dataframe to an interactive table.\"\n",
              "            style=\"display:none;\">\n",
              "\n",
              "  <svg xmlns=\"http://www.w3.org/2000/svg\" height=\"24px\" viewBox=\"0 -960 960 960\">\n",
              "    <path d=\"M120-120v-720h720v720H120Zm60-500h600v-160H180v160Zm220 220h160v-160H400v160Zm0 220h160v-160H400v160ZM180-400h160v-160H180v160Zm440 0h160v-160H620v160ZM180-180h160v-160H180v160Zm440 0h160v-160H620v160Z\"/>\n",
              "  </svg>\n",
              "    </button>\n",
              "\n",
              "  <style>\n",
              "    .colab-df-container {\n",
              "      display:flex;\n",
              "      gap: 12px;\n",
              "    }\n",
              "\n",
              "    .colab-df-convert {\n",
              "      background-color: #E8F0FE;\n",
              "      border: none;\n",
              "      border-radius: 50%;\n",
              "      cursor: pointer;\n",
              "      display: none;\n",
              "      fill: #1967D2;\n",
              "      height: 32px;\n",
              "      padding: 0 0 0 0;\n",
              "      width: 32px;\n",
              "    }\n",
              "\n",
              "    .colab-df-convert:hover {\n",
              "      background-color: #E2EBFA;\n",
              "      box-shadow: 0px 1px 2px rgba(60, 64, 67, 0.3), 0px 1px 3px 1px rgba(60, 64, 67, 0.15);\n",
              "      fill: #174EA6;\n",
              "    }\n",
              "\n",
              "    .colab-df-buttons div {\n",
              "      margin-bottom: 4px;\n",
              "    }\n",
              "\n",
              "    [theme=dark] .colab-df-convert {\n",
              "      background-color: #3B4455;\n",
              "      fill: #D2E3FC;\n",
              "    }\n",
              "\n",
              "    [theme=dark] .colab-df-convert:hover {\n",
              "      background-color: #434B5C;\n",
              "      box-shadow: 0px 1px 3px 1px rgba(0, 0, 0, 0.15);\n",
              "      filter: drop-shadow(0px 1px 2px rgba(0, 0, 0, 0.3));\n",
              "      fill: #FFFFFF;\n",
              "    }\n",
              "  </style>\n",
              "\n",
              "    <script>\n",
              "      const buttonEl =\n",
              "        document.querySelector('#df-a29e717e-e874-40dc-963c-85e17f68804c button.colab-df-convert');\n",
              "      buttonEl.style.display =\n",
              "        google.colab.kernel.accessAllowed ? 'block' : 'none';\n",
              "\n",
              "      async function convertToInteractive(key) {\n",
              "        const element = document.querySelector('#df-a29e717e-e874-40dc-963c-85e17f68804c');\n",
              "        const dataTable =\n",
              "          await google.colab.kernel.invokeFunction('convertToInteractive',\n",
              "                                                    [key], {});\n",
              "        if (!dataTable) return;\n",
              "\n",
              "        const docLinkHtml = 'Like what you see? Visit the ' +\n",
              "          '<a target=\"_blank\" href=https://colab.research.google.com/notebooks/data_table.ipynb>data table notebook</a>'\n",
              "          + ' to learn more about interactive tables.';\n",
              "        element.innerHTML = '';\n",
              "        dataTable['output_type'] = 'display_data';\n",
              "        await google.colab.output.renderOutput(dataTable, element);\n",
              "        const docLink = document.createElement('div');\n",
              "        docLink.innerHTML = docLinkHtml;\n",
              "        element.appendChild(docLink);\n",
              "      }\n",
              "    </script>\n",
              "  </div>\n",
              "\n",
              "\n",
              "<div id=\"df-6fb508bc-43f9-4182-8b60-1af19ff594d3\">\n",
              "  <button class=\"colab-df-quickchart\" onclick=\"quickchart('df-6fb508bc-43f9-4182-8b60-1af19ff594d3')\"\n",
              "            title=\"Suggest charts\"\n",
              "            style=\"display:none;\">\n",
              "\n",
              "<svg xmlns=\"http://www.w3.org/2000/svg\" height=\"24px\"viewBox=\"0 0 24 24\"\n",
              "     width=\"24px\">\n",
              "    <g>\n",
              "        <path d=\"M19 3H5c-1.1 0-2 .9-2 2v14c0 1.1.9 2 2 2h14c1.1 0 2-.9 2-2V5c0-1.1-.9-2-2-2zM9 17H7v-7h2v7zm4 0h-2V7h2v10zm4 0h-2v-4h2v4z\"/>\n",
              "    </g>\n",
              "</svg>\n",
              "  </button>\n",
              "\n",
              "<style>\n",
              "  .colab-df-quickchart {\n",
              "      --bg-color: #E8F0FE;\n",
              "      --fill-color: #1967D2;\n",
              "      --hover-bg-color: #E2EBFA;\n",
              "      --hover-fill-color: #174EA6;\n",
              "      --disabled-fill-color: #AAA;\n",
              "      --disabled-bg-color: #DDD;\n",
              "  }\n",
              "\n",
              "  [theme=dark] .colab-df-quickchart {\n",
              "      --bg-color: #3B4455;\n",
              "      --fill-color: #D2E3FC;\n",
              "      --hover-bg-color: #434B5C;\n",
              "      --hover-fill-color: #FFFFFF;\n",
              "      --disabled-bg-color: #3B4455;\n",
              "      --disabled-fill-color: #666;\n",
              "  }\n",
              "\n",
              "  .colab-df-quickchart {\n",
              "    background-color: var(--bg-color);\n",
              "    border: none;\n",
              "    border-radius: 50%;\n",
              "    cursor: pointer;\n",
              "    display: none;\n",
              "    fill: var(--fill-color);\n",
              "    height: 32px;\n",
              "    padding: 0;\n",
              "    width: 32px;\n",
              "  }\n",
              "\n",
              "  .colab-df-quickchart:hover {\n",
              "    background-color: var(--hover-bg-color);\n",
              "    box-shadow: 0 1px 2px rgba(60, 64, 67, 0.3), 0 1px 3px 1px rgba(60, 64, 67, 0.15);\n",
              "    fill: var(--button-hover-fill-color);\n",
              "  }\n",
              "\n",
              "  .colab-df-quickchart-complete:disabled,\n",
              "  .colab-df-quickchart-complete:disabled:hover {\n",
              "    background-color: var(--disabled-bg-color);\n",
              "    fill: var(--disabled-fill-color);\n",
              "    box-shadow: none;\n",
              "  }\n",
              "\n",
              "  .colab-df-spinner {\n",
              "    border: 2px solid var(--fill-color);\n",
              "    border-color: transparent;\n",
              "    border-bottom-color: var(--fill-color);\n",
              "    animation:\n",
              "      spin 1s steps(1) infinite;\n",
              "  }\n",
              "\n",
              "  @keyframes spin {\n",
              "    0% {\n",
              "      border-color: transparent;\n",
              "      border-bottom-color: var(--fill-color);\n",
              "      border-left-color: var(--fill-color);\n",
              "    }\n",
              "    20% {\n",
              "      border-color: transparent;\n",
              "      border-left-color: var(--fill-color);\n",
              "      border-top-color: var(--fill-color);\n",
              "    }\n",
              "    30% {\n",
              "      border-color: transparent;\n",
              "      border-left-color: var(--fill-color);\n",
              "      border-top-color: var(--fill-color);\n",
              "      border-right-color: var(--fill-color);\n",
              "    }\n",
              "    40% {\n",
              "      border-color: transparent;\n",
              "      border-right-color: var(--fill-color);\n",
              "      border-top-color: var(--fill-color);\n",
              "    }\n",
              "    60% {\n",
              "      border-color: transparent;\n",
              "      border-right-color: var(--fill-color);\n",
              "    }\n",
              "    80% {\n",
              "      border-color: transparent;\n",
              "      border-right-color: var(--fill-color);\n",
              "      border-bottom-color: var(--fill-color);\n",
              "    }\n",
              "    90% {\n",
              "      border-color: transparent;\n",
              "      border-bottom-color: var(--fill-color);\n",
              "    }\n",
              "  }\n",
              "</style>\n",
              "\n",
              "  <script>\n",
              "    async function quickchart(key) {\n",
              "      const quickchartButtonEl =\n",
              "        document.querySelector('#' + key + ' button');\n",
              "      quickchartButtonEl.disabled = true;  // To prevent multiple clicks.\n",
              "      quickchartButtonEl.classList.add('colab-df-spinner');\n",
              "      try {\n",
              "        const charts = await google.colab.kernel.invokeFunction(\n",
              "            'suggestCharts', [key], {});\n",
              "      } catch (error) {\n",
              "        console.error('Error during call to suggestCharts:', error);\n",
              "      }\n",
              "      quickchartButtonEl.classList.remove('colab-df-spinner');\n",
              "      quickchartButtonEl.classList.add('colab-df-quickchart-complete');\n",
              "    }\n",
              "    (() => {\n",
              "      let quickchartButtonEl =\n",
              "        document.querySelector('#df-6fb508bc-43f9-4182-8b60-1af19ff594d3 button');\n",
              "      quickchartButtonEl.style.display =\n",
              "        google.colab.kernel.accessAllowed ? 'block' : 'none';\n",
              "    })();\n",
              "  </script>\n",
              "</div>\n",
              "\n",
              "    </div>\n",
              "  </div>\n"
            ],
            "application/vnd.google.colaboratory.intrinsic+json": {
              "type": "dataframe",
              "variable_name": "data",
              "summary": "{\n  \"name\": \"data\",\n  \"rows\": 392,\n  \"fields\": [\n    {\n      \"column\": \"mpg\",\n      \"properties\": {\n        \"dtype\": \"number\",\n        \"std\": 7.805007486571799,\n        \"min\": 9.0,\n        \"max\": 46.6,\n        \"num_unique_values\": 127,\n        \"samples\": [\n          17.5,\n          35.1,\n          28.8\n        ],\n        \"semantic_type\": \"\",\n        \"description\": \"\"\n      }\n    },\n    {\n      \"column\": \"cylinders\",\n      \"properties\": {\n        \"dtype\": \"number\",\n        \"std\": 1.7057832474527843,\n        \"min\": 3.0,\n        \"max\": 8.0,\n        \"num_unique_values\": 5,\n        \"samples\": [\n          4.0,\n          5.0,\n          6.0\n        ],\n        \"semantic_type\": \"\",\n        \"description\": \"\"\n      }\n    },\n    {\n      \"column\": \"displacement\",\n      \"properties\": {\n        \"dtype\": \"number\",\n        \"std\": 104.64400390890465,\n        \"min\": 68.0,\n        \"max\": 455.0,\n        \"num_unique_values\": 81,\n        \"samples\": [\n          116.0,\n          307.0,\n          360.0\n        ],\n        \"semantic_type\": \"\",\n        \"description\": \"\"\n      }\n    },\n    {\n      \"column\": \"horsepower\",\n      \"properties\": {\n        \"dtype\": \"number\",\n        \"std\": 38.49115993282855,\n        \"min\": 46.0,\n        \"max\": 230.0,\n        \"num_unique_values\": 93,\n        \"samples\": [\n          92.0,\n          100.0,\n          52.0\n        ],\n        \"semantic_type\": \"\",\n        \"description\": \"\"\n      }\n    },\n    {\n      \"column\": \"weight\",\n      \"properties\": {\n        \"dtype\": \"number\",\n        \"std\": 849.4025600429494,\n        \"min\": 1613.0,\n        \"max\": 5140.0,\n        \"num_unique_values\": 346,\n        \"samples\": [\n          2472.0,\n          3221.0,\n          2700.0\n        ],\n        \"semantic_type\": \"\",\n        \"description\": \"\"\n      }\n    },\n    {\n      \"column\": \"acceleration\",\n      \"properties\": {\n        \"dtype\": \"number\",\n        \"std\": 2.7588641191880816,\n        \"min\": 8.0,\n        \"max\": 24.8,\n        \"num_unique_values\": 95,\n        \"samples\": [\n          14.7,\n          18.0,\n          14.3\n        ],\n        \"semantic_type\": \"\",\n        \"description\": \"\"\n      }\n    },\n    {\n      \"column\": \"model\",\n      \"properties\": {\n        \"dtype\": \"number\",\n        \"std\": 3.6837365435778318,\n        \"min\": 70.0,\n        \"max\": 82.0,\n        \"num_unique_values\": 13,\n        \"samples\": [\n          81.0,\n          79.0,\n          70.0\n        ],\n        \"semantic_type\": \"\",\n        \"description\": \"\"\n      }\n    },\n    {\n      \"column\": \"origin\",\n      \"properties\": {\n        \"dtype\": \"number\",\n        \"std\": 0.805518183418305,\n        \"min\": 1.0,\n        \"max\": 3.0,\n        \"num_unique_values\": 3,\n        \"samples\": [\n          1.0,\n          3.0,\n          2.0\n        ],\n        \"semantic_type\": \"\",\n        \"description\": \"\"\n      }\n    },\n    {\n      \"column\": \"car_name\",\n      \"properties\": {\n        \"dtype\": \"string\",\n        \"num_unique_values\": 301,\n        \"samples\": [\n          \"subaru dl\",\n          \"buick century limited\",\n          \"plymouth horizon\"\n        ],\n        \"semantic_type\": \"\",\n        \"description\": \"\"\n      }\n    }\n  ]\n}"
            }
          },
          "metadata": {},
          "execution_count": 11
        }
      ]
    },
    {
      "cell_type": "markdown",
      "metadata": {
        "id": "MArizMt0_P1A"
      },
      "source": [
        "### 2.1 Your turn! (10-12 points)\n",
        "\n",
        "Write code to:\n",
        "\n",
        "1. Count the number of 3- and 5-cylinder vehicles in the dataset, display the count, and discard those entries (rows). (6 pts)\n",
        "2. Compute and display the min, max, and average fuel consumption (in mpg) for 4-, 6-, and 8-cylinder vehicles. (4 pts)\n",
        "3. (OPTIONAL) Display the name of the most and least fuel efficient vehicles in the dataset (<= 2 points)\n"
      ]
    },
    {
      "cell_type": "code",
      "metadata": {
        "id": "mZAzqwkfNHmy"
      },
      "source": [
        "cnt3  = (auto.cylinders == 3).sum()\n",
        "cnt5  = (auto.cylinders == 5).sum()\n",
        "print(f\"3-cyl: {cnt3}   5-cyl: {cnt5}\")"
      ],
      "execution_count": null,
      "outputs": []
    },
    {
      "cell_type": "markdown",
      "metadata": {
        "id": "wVPtqqJyNJ13"
      },
      "source": [
        "*Enter your text here*"
      ]
    },
    {
      "cell_type": "markdown",
      "metadata": {
        "id": "KCU0fOaqAaIJ"
      },
      "source": [
        "--------------------\n",
        "### Hypotheses and questions\n",
        "\n",
        "This dataset may help us test hypotheses and answer questions related to fuel consumption.\n",
        "\n",
        "To get started: Which features of a vehicle correlate best with its mpg --  *displacement*, *weight*, or *horsepower*?"
      ]
    },
    {
      "cell_type": "markdown",
      "metadata": {
        "id": "rzrD2ZFgAaIM"
      },
      "source": [
        "### 2.2. Your turn! (24 points)\n",
        "\n",
        "Write Python code to plot the relationship between (8 pts each):\n",
        "\n",
        "1. Fuel consumption and displacement (engine size)\n",
        "2. Fuel consumption and weight\n",
        "3. Fuel consumption and horsepower (HP)\n"
      ]
    },
    {
      "cell_type": "code",
      "metadata": {
        "id": "90zGNrduRYn8"
      },
      "source": [
        "fig, ax = plt.subplots(1,3, figsize=(15,4))\n",
        "\n",
        "sns.scatterplot(data=auto, x='displacement', y='mpg', ax=ax[0], alpha=.6)\n",
        "ax[0].set_title('MPG vs displacement')\n",
        "\n",
        "sns.scatterplot(data=auto, x='weight', y='mpg', ax=ax[1], alpha=.6)\n",
        "ax[1].set_title('MPG vs weight')\n",
        "\n",
        "sns.scatterplot(data=auto, x='horsepower', y='mpg', ax=ax[2], alpha=.6)\n",
        "ax[2].set_title('MPG vs horsepower')\n",
        "\n",
        "plt.tight_layout()"
      ],
      "execution_count": null,
      "outputs": []
    },
    {
      "cell_type": "markdown",
      "metadata": {
        "id": "_y2Wmnm4RZv1"
      },
      "source": [
        "*Enter your text here*"
      ]
    },
    {
      "cell_type": "markdown",
      "metadata": {
        "id": "pvUt01qHN4rc"
      },
      "source": [
        "---------------------\n",
        "### Hypotheses H4 and H5\n",
        "At this point, we will formulate two hypotheses that should be confirmed or refuted based on the data:\n",
        "\n",
        "- H4: fuel efficiency improved over the years represented in this dataset (i.e., 1970 through 1982).\n",
        "- H5: Japanese cars (within the same time frame) are more fuel efficient than American or European ones."
      ]
    },
    {
      "cell_type": "markdown",
      "metadata": {
        "id": "0n9yctP0CmC9"
      },
      "source": [
        "\n",
        "\n",
        "### 2.3 Your turn! (20-26 points)\n",
        "\n",
        "Write Python code to produce (box)plots that should provide good answers to the hypotheses H4 and H5 above (and some text to explain whether they were confirmed or not).\n",
        "\n",
        "**Weight**: 20 pts, i.e., 10 pts per hypothesis.\n",
        "Up to 6 bonus points for insightful additional hypotheses, code, and/or comments.\n",
        "\n",
        "Hint:\n",
        "\n",
        "``data['Country_code'] = data.origin.replace([1,2,3],['USA','Europe','Japan'])``\n",
        "\n"
      ]
    },
    {
      "cell_type": "code",
      "metadata": {
        "id": "fqT2s_oBOl9s"
      },
      "source": [
        "# helper columns\n",
        "auto['year']   = auto['modelyear'] + 1900   # 70 ➔ 1970, etc.\n",
        "auto['country'] = auto['origin'].replace({1:'USA',2:'Europe',3:'Japan'})\n",
        "\n",
        "## H4 – fuel economy over time\n",
        "sns.boxplot(data=auto, x='year', y='mpg')\n",
        "plt.xticks(rotation=45); plt.title('MPG distribution by model year')\n",
        "plt.show()\n",
        "\n",
        "## H5 – country comparison\n",
        "sns.boxplot(data=auto, x='country', y='mpg')\n",
        "plt.title('Fuel efficiency by region of origin')\n",
        "plt.show()"
      ],
      "execution_count": null,
      "outputs": []
    },
    {
      "cell_type": "markdown",
      "metadata": {
        "id": "WkqQd3ACOnyQ"
      },
      "source": [
        "*Enter your text*"
      ]
    },
    {
      "cell_type": "markdown",
      "source": [
        "Learned basic EDA workflow: loading data, cleaning, grouping, hypothesis testing, quick viz with Seaborn.\n",
        "\n",
        "Most fun: visualizing gender pay gap; most tedious: handling missing horsepower values.\n",
        "\n",
        "With an extra week: build interactive dashboards (Plotly), add regression models, perform formal multiple-comparison tests, and polish the narrative for a publication-quality report."
      ],
      "metadata": {
        "id": "FeRTFPBK-Edt"
      }
    },
    {
      "cell_type": "markdown",
      "metadata": {
        "id": "GLi0m9uuKkpD"
      },
      "source": [
        "### Conclusions (16 points)\n",
        "\n",
        "Write your conclusions and make sure to address the issues below:\n",
        "- What have you learned from this assignment?\n",
        "- Which parts were the most fun, time-consuming, enlightening, tedious?\n",
        "- What would you do if you had an additional week to work on this?"
      ]
    },
    {
      "cell_type": "markdown",
      "metadata": {
        "id": "6_JtoF2cO2RX"
      },
      "source": [
        "Learned basic EDA workflow: loading data, cleaning, grouping, hypothesis testing, quick viz with Seaborn.\n",
        "\n",
        "Most fun: visualizing gender pay gap; most tedious: handling missing horsepower values.\n",
        "\n",
        "With an extra week: build interactive dashboards (Plotly), add regression models, perform formal multiple-comparison tests, and polish the narrative for a publication-quality report.*Enter your conclusions here*\n"
      ]
    }
  ]
}